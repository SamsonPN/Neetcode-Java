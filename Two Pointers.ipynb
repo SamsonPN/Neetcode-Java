{
 "cells": [
  {
   "cell_type": "markdown",
   "id": "50bb1d46",
   "metadata": {},
   "source": [
    "# Easy"
   ]
  },
  {
   "cell_type": "markdown",
   "id": "58f6262d",
   "metadata": {},
   "source": [
    "## Valid Palindrome\n",
    "\n",
    "* https://leetcode.com/problems/valid-palindrome/description/\n",
    "***\n",
    "* Time Complexity: O(n)\n",
    "    - have to check the entire string to make sure it still follows the palindrome property\n",
    "* Space Complexity: O(1)\n",
    "    - only requires space for 2 variables, left and right\n",
    "***\n",
    "* we create 2 pointers:\n",
    "    - left = 0\n",
    "    - right = string.length() - 1\n",
    "* we want to move them until they cross so the while loop continues until they both pass each\n",
    "* on each iteration we:\n",
    "    - convert the letters at their index to lower case\n",
    "    - we then check if they're alphanumeric\n",
    "        * we do this first so that we can just move their left/right pointers and keep the one that is alphanumeric\n",
    "    - then if both are alphanumeric, we check if they are equal\n",
    "* char is a primitive and we can use '==' to check for equality"
   ]
  },
  {
   "cell_type": "code",
   "execution_count": null,
   "id": "02afb6dc",
   "metadata": {},
   "outputs": [],
   "source": [
    "class Solution {\n",
    "    // return true if it is a palindrome\n",
    "    // palindrome = a string reads the same front to back\n",
    "    // disregard non-alphanumeric characters\n",
    "    public boolean isPalindrome(String s) {\n",
    "        int left = 0;\n",
    "        int right = s.length() - 1;\n",
    "\n",
    "        String lowerString = s.toLowerCase();\n",
    "\n",
    "        while (left <= right) {\n",
    "            char letter1 = lowerString.charAt(left);\n",
    "            char letter2 = lowerString.charAt(right);\n",
    "\n",
    "            if ( !isAlphaNum(letter1) ) {\n",
    "                left++;\n",
    "                continue;\n",
    "            }\n",
    "            else if ( !isAlphaNum(letter2) ) {\n",
    "                right--;\n",
    "                continue;\n",
    "            }\n",
    "            else if (letter1 != letter2) {\n",
    "                return false;\n",
    "            }\n",
    "\n",
    "            left++;\n",
    "            right--;\n",
    "        }\n",
    "\n",
    "        return true;\n",
    "    }\n",
    "\n",
    "    public boolean isAlphaNum(char c) {\n",
    "        return (c >= 'a' && c <= 'z') || (c >= '0' && c <= '9');\n",
    "    }\n",
    "}"
   ]
  },
  {
   "cell_type": "markdown",
   "id": "6f37c0ea",
   "metadata": {},
   "source": [
    "# Medium"
   ]
  },
  {
   "cell_type": "markdown",
   "id": "6299724e",
   "metadata": {},
   "source": [
    "## Pairs of Songs With Total Durations Divisible by 60\n",
    "\n",
    "* https://leetcode.com/problems/pairs-of-songs-with-total-durations-divisible-by-60/description/"
   ]
  },
  {
   "cell_type": "code",
   "execution_count": null,
   "id": "0c62523b",
   "metadata": {},
   "outputs": [],
   "source": []
  },
  {
   "cell_type": "markdown",
   "id": "ef1d8ee6",
   "metadata": {},
   "source": [
    "## Two Sum II - Input Array is Sorted\n",
    "\n",
    "* https://leetcode.com/problems/two-sum-ii-input-array-is-sorted/\n",
    "***\n",
    "* Time Complexity: O(n)\n",
    "    - we might have to traverse the entire array before we get our solution\n",
    "* Space Complexity: O(1)\n",
    "    - only requires space for a couple of variables\n",
    "***\n",
    "* sorted int[] numbers\n",
    "    - could make use of indices or binary search\n",
    "* return int [] of indices of values that add up to target\n",
    "* since values are sorted, we can make use of 2 pointer\n",
    "    - index start = 0\n",
    "    - index end = numbers.length - 1\n",
    "    - depending on the current sum, we have 3 options:\n",
    "        1. if num > target, then end-- b/c we know that end will always have the biggest nums\n",
    "        2. if num < target, then start++ b/c we know that start can always increase\n",
    "        3. if num == target, return [start + 1, end + 1] since 1-indexed\n",
    "    - pretty similar to binary search"
   ]
  },
  {
   "cell_type": "code",
   "execution_count": null,
   "id": "30f73eda",
   "metadata": {},
   "outputs": [],
   "source": [
    "class Solution {\n",
    "    /**\n",
    "     * sorted int[] numbers\n",
    "        - could make use of indices or binary search\n",
    "     * return int [] of indices of values that add up to target\n",
    "     * since values are sorted, we can make use of 2 pointer\n",
    "        - index start = 0\n",
    "        - index end = numbers.length - 1\n",
    "        - depending on the current sum, we have 3 options:\n",
    "            1. if num > target, then end-- b/c we know that end will always have the biggest nums\n",
    "            2. if num < target, then start++ b/c we know that start can always increase\n",
    "            3. if num == target, return [start + 1, end + 1] since 1-indexed\n",
    "        - pretty similar to binary search\n",
    "     */\n",
    "    public int[] twoSum(int[] numbers, int target) {\n",
    "        int start = 0;\n",
    "        int end = numbers.length - 1;\n",
    "\n",
    "        // can't use same element twice so no start <= end\n",
    "        while (start < end) {\n",
    "            int sum = numbers[start] + numbers[end];\n",
    "            if (sum == target) return new int[] {start + 1, end + 1};\n",
    "            if (sum > target) end--;\n",
    "            if (sum < target) start++;\n",
    "        }\n",
    "\n",
    "        return new int[] {};\n",
    "    }\n",
    "}"
   ]
  },
  {
   "cell_type": "code",
   "execution_count": null,
   "id": "ce0322ff",
   "metadata": {},
   "outputs": [],
   "source": []
  },
  {
   "cell_type": "code",
   "execution_count": null,
   "id": "a062dcb6",
   "metadata": {},
   "outputs": [],
   "source": []
  },
  {
   "cell_type": "code",
   "execution_count": null,
   "id": "9c7b09bc",
   "metadata": {},
   "outputs": [],
   "source": []
  },
  {
   "cell_type": "code",
   "execution_count": null,
   "id": "136319e9",
   "metadata": {},
   "outputs": [],
   "source": []
  },
  {
   "cell_type": "code",
   "execution_count": null,
   "id": "a71d4296",
   "metadata": {},
   "outputs": [],
   "source": []
  },
  {
   "cell_type": "code",
   "execution_count": null,
   "id": "50c996a9",
   "metadata": {},
   "outputs": [],
   "source": []
  }
 ],
 "metadata": {
  "kernelspec": {
   "display_name": "Java",
   "language": "java",
   "name": "java"
  },
  "language_info": {
   "codemirror_mode": "java",
   "file_extension": ".jshell",
   "mimetype": "text/x-java-source",
   "name": "Java",
   "pygments_lexer": "java",
   "version": "21+35-2513"
  }
 },
 "nbformat": 4,
 "nbformat_minor": 5
}
