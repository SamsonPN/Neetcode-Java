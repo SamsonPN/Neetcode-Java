{
 "cells": [
  {
   "cell_type": "markdown",
   "id": "827ae3c3",
   "metadata": {},
   "source": [
    "# Easy"
   ]
  },
  {
   "cell_type": "markdown",
   "id": "01085e1d",
   "metadata": {},
   "source": [
    "## Best Time to Buy and Sell Stock\n",
    "\n",
    "* https://leetcode.com/problems/best-time-to-buy-and-sell-stock/description/\n",
    "***\n",
    "* Time Complexity: O(n)\n",
    "    - have to look through all prices to determine max profit\n",
    "* Space Complexity: O(1)\n",
    "    - only requires space for a couple of variables\n",
    "***\n",
    "* there are 2 things we know:\n",
    "    1. if our profit is a negative number, we know that the stock price of sell is much lower than buy\n",
    "        - therefore, our sell stock can be our new buy stock\n",
    "    2. if our profit is a positive number, we can safely keep using it until we find a negative number\n",
    "        - reason being, if we get a negative number, we know the sell stock is lower\n",
    "        - but if we get a positive number, we are making some profit off of it and we don't need to find a new buy stock right now\n",
    "* so we can just check our profit\n",
    "    - if we get negative profit, then make our sell stock our new buy stock\n",
    "    - if we get a positive profit, we see if that's greater than what our profit is so far"
   ]
  },
  {
   "cell_type": "code",
   "execution_count": null,
   "id": "bf518af8",
   "metadata": {},
   "outputs": [],
   "source": [
    "class Solution {\n",
    "    public int maxProfit(int[] prices) {\n",
    "        int ans = 0;\n",
    "        int buy = prices[0];\n",
    "\n",
    "        for (int i = 1; i < prices.length; i++) {\n",
    "            // check for profit\n",
    "            int profit = prices[i] - buy;\n",
    "            \n",
    "            // if we lose profit\n",
    "            // then change buy to become the current stock\n",
    "            if (profit < 0) {\n",
    "                buy = prices[i];\n",
    "            }\n",
    "            else {\n",
    "                ans = Math.max(ans, profit);\n",
    "            }\n",
    "        }\n",
    "\n",
    "        return ans;\n",
    "    }\n",
    "}"
   ]
  },
  {
   "cell_type": "code",
   "execution_count": null,
   "id": "a746e97c",
   "metadata": {},
   "outputs": [],
   "source": []
  },
  {
   "cell_type": "code",
   "execution_count": null,
   "id": "130a1937",
   "metadata": {},
   "outputs": [],
   "source": []
  },
  {
   "cell_type": "code",
   "execution_count": null,
   "id": "4fb49104",
   "metadata": {},
   "outputs": [],
   "source": []
  },
  {
   "cell_type": "code",
   "execution_count": null,
   "id": "0d8a0086",
   "metadata": {},
   "outputs": [],
   "source": []
  }
 ],
 "metadata": {
  "kernelspec": {
   "display_name": "Java",
   "language": "java",
   "name": "java"
  },
  "language_info": {
   "codemirror_mode": "java",
   "file_extension": ".jshell",
   "mimetype": "text/x-java-source",
   "name": "Java",
   "pygments_lexer": "java",
   "version": "21+35-2513"
  }
 },
 "nbformat": 4,
 "nbformat_minor": 5
}
