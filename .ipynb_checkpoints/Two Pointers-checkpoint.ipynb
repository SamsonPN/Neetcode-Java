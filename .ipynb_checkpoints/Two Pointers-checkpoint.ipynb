{
 "cells": [
  {
   "cell_type": "markdown",
   "id": "50bb1d46",
   "metadata": {},
   "source": [
    "# Easy"
   ]
  },
  {
   "cell_type": "markdown",
   "id": "58f6262d",
   "metadata": {},
   "source": [
    "## Valid Palindrome\n",
    "\n",
    "* https://leetcode.com/problems/valid-palindrome/description/\n",
    "***\n",
    "* Time Complexity: O(n)\n",
    "    - have to check the entire string to make sure it still follows the palindrome property\n",
    "* Space Complexity: O(1)\n",
    "    - only requires space for 2 variables, left and right\n",
    "***\n",
    "* we create 2 pointers:\n",
    "    - left = 0\n",
    "    - right = string.length() - 1\n",
    "* we want to move them until they cross so the while loop continues until they both pass each\n",
    "* on each iteration we:\n",
    "    - convert the letters at their index to lower case\n",
    "    - we then check if they're alphanumeric\n",
    "        * we do this first so that we can just move their left/right pointers and keep the one that is alphanumeric\n",
    "    - then if both are alphanumeric, we check if they are equal\n",
    "* char is a primitive and we can use '==' to check for equality"
   ]
  },
  {
   "cell_type": "code",
   "execution_count": null,
   "id": "02afb6dc",
   "metadata": {},
   "outputs": [],
   "source": [
    "class Solution {\n",
    "    // return true if it is a palindrome\n",
    "    // palindrome = a string reads the same front to back\n",
    "    // disregard non-alphanumeric characters\n",
    "    public boolean isPalindrome(String s) {\n",
    "        int left = 0;\n",
    "        int right = s.length() - 1;\n",
    "\n",
    "        String lowerString = s.toLowerCase();\n",
    "\n",
    "        while (left <= right) {\n",
    "            char letter1 = lowerString.charAt(left);\n",
    "            char letter2 = lowerString.charAt(right);\n",
    "\n",
    "            if ( !isAlphaNum(letter1) ) {\n",
    "                left++;\n",
    "                continue;\n",
    "            }\n",
    "            else if ( !isAlphaNum(letter2) ) {\n",
    "                right--;\n",
    "                continue;\n",
    "            }\n",
    "            else if (letter1 != letter2) {\n",
    "                return false;\n",
    "            }\n",
    "\n",
    "            left++;\n",
    "            right--;\n",
    "        }\n",
    "\n",
    "        return true;\n",
    "    }\n",
    "\n",
    "    public boolean isAlphaNum(char c) {\n",
    "        return (c >= 'a' && c <= 'z') || (c >= '0' && c <= '9');\n",
    "    }\n",
    "}"
   ]
  }
 ],
 "metadata": {
  "kernelspec": {
   "display_name": "Java",
   "language": "java",
   "name": "java"
  },
  "language_info": {
   "codemirror_mode": "java",
   "file_extension": ".jshell",
   "mimetype": "text/x-java-source",
   "name": "Java",
   "pygments_lexer": "java",
   "version": "21+35-2513"
  }
 },
 "nbformat": 4,
 "nbformat_minor": 5
}
