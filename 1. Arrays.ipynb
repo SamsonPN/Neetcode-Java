{
 "cells": [
  {
   "cell_type": "markdown",
   "id": "98231717",
   "metadata": {},
   "source": [
    "# Easy"
   ]
  },
  {
   "cell_type": "markdown",
   "id": "c1162898",
   "metadata": {},
   "source": [
    "## Contains Duplicate\n",
    "\n",
    "* https://leetcode.com/problems/contains-duplicate/solutions/\n",
    "***\n",
    "* Time Complexity: O(n)\n",
    "    - might have to loop through entire array before find the duplicate\n",
    "* Space Complexity: O(n)\n",
    "    - uses a HashSet to keep track of integers seen and we might have to keep track of most of the array\n",
    "***\n",
    "* just loop through the array and keep track of what you've seen\n",
    "* we use a HashSet for O(1) operations to add and find if a value is contained inside it"
   ]
  },
  {
   "cell_type": "code",
   "execution_count": null,
   "id": "fd18f4be",
   "metadata": {},
   "outputs": [],
   "source": [
    "class Solution {\n",
    "    // if contains duplicate return true\n",
    "    // if no duplicates, return false\n",
    "    // array of integers\n",
    "    public boolean containsDuplicate(int[] nums) {\n",
    "        // want to loop through the int array\n",
    "        // if we find a duplicate, return true\n",
    "        HashSet seen = new HashSet<>();\n",
    "\n",
    "        for (int value : nums) {\n",
    "            if (seen.contains(value)) {\n",
    "                return true;\n",
    "            }\n",
    "            seen.add(value);\n",
    "        }\n",
    "\n",
    "        return false;\n",
    "    }\n",
    "}"
   ]
  },
  {
   "cell_type": "markdown",
   "id": "0817e12b",
   "metadata": {},
   "source": [
    "## Valid Anagram\n",
    "\n",
    "* https://leetcode.com/problems/valid-anagram/description/\n",
    "***\n",
    "* Time Complexity: O(n), where n = length of s and t\n",
    "    - loops through s then t\n",
    "* Space Complexity: O(1)\n",
    "    - reason being, you'll only ever keep track of the 26 characters of the alphabet in a HashMap regardless of length of s or t\n",
    "***\n",
    "* an anagram of a string is a permutation of it\n",
    "    - therefore, that permutation must have the same length and same # of each char as the original string it was madefrom\n",
    "* we keep track of the characters in s and its frequency\n",
    "* we then decrement that freq when we loop through t\n",
    "    - if t has a letter that is not found in s or if the letter is at the wrong frequency, then it is not a valid anagram"
   ]
  },
  {
   "cell_type": "code",
   "execution_count": null,
   "id": "230e37a3",
   "metadata": {},
   "outputs": [],
   "source": [
    "// return true if t is an anagram of s\n",
    "// anagram = permutation of the original string, in this case s\n",
    "// therefore: s.length == t.length\n",
    "// should also have same # of each character in each string\n",
    "\n",
    "class Solution {\n",
    "    public boolean isAnagram(String s, String t) {\n",
    "        if (s.length() != t.length()) {\n",
    "            return false;\n",
    "        }\n",
    "\n",
    "        // loop through and place all chars into a hash table\n",
    "        HashMap<Character, Integer> seen = new HashMap<>();\n",
    "\n",
    "        for (int i = 0; i < s.length(); i++) {\n",
    "            char letter = s.charAt(i);\n",
    "            seen.put(letter, seen.getOrDefault(letter, 0) + 1);\n",
    "        }\n",
    "\n",
    "        // loop through t\n",
    "        for (int i = 0; i < t.length(); i++) {\n",
    "            char letter = t.charAt(i);\n",
    "            if (!seen.containsKey(letter) || seen.get(letter) == 0) {\n",
    "                return false;\n",
    "            }\n",
    "\n",
    "            seen.put(letter, seen.get(letter) - 1);\n",
    "        }\n",
    "\n",
    "        return true;\n",
    "    }\n",
    "}"
   ]
  },
  {
   "cell_type": "markdown",
   "id": "8798a71d",
   "metadata": {},
   "source": [
    "## Two Sum\n",
    "\n",
    "* https://leetcode.com/problems/two-sum/description/\n",
    "***\n",
    "* Time Complexity: O(n)\n",
    "    - might have to loop through entire array before finding a two sum\n",
    "* Space Complexity: O(n)\n",
    "    - might have to loop through and keep track of all values : indices we've seen in the entire array\n",
    "***\n",
    "* loop through nums and keep track of the value: index in the HashMap\n",
    "* during each loop, we also try to see if we find a match to sum up to target in the HashMap\n",
    "    - if there is, we just return it"
   ]
  },
  {
   "cell_type": "code",
   "execution_count": null,
   "id": "218c3d5c",
   "metadata": {},
   "outputs": [],
   "source": [
    "class Solution {\n",
    "    public int[] twoSum(int[] nums, int target) {\n",
    "        HashMap<Integer, Integer> map = new HashMap<>();\n",
    "        int[] ans = new int[2];\n",
    "        \n",
    "        for (int i = 0; i < nums.length; i++) {\n",
    "            int diff = target - nums[i];\n",
    "\n",
    "            if (map.containsKey(diff)) {\n",
    "                ans[0] = i;\n",
    "                ans[1] = map.get(diff);\n",
    "                return ans;\n",
    "            }\n",
    "\n",
    "            map.put(nums[i], i);\n",
    "        }\n",
    "\n",
    "        return ans;\n",
    "    }\n",
    "}"
   ]
  },
  {
   "cell_type": "code",
   "execution_count": null,
   "id": "39bb998a",
   "metadata": {},
   "outputs": [],
   "source": []
  },
  {
   "cell_type": "code",
   "execution_count": null,
   "id": "f0b42e1f",
   "metadata": {},
   "outputs": [],
   "source": []
  },
  {
   "cell_type": "code",
   "execution_count": null,
   "id": "82480dce",
   "metadata": {},
   "outputs": [],
   "source": []
  },
  {
   "cell_type": "code",
   "execution_count": null,
   "id": "50534984",
   "metadata": {},
   "outputs": [],
   "source": []
  },
  {
   "cell_type": "code",
   "execution_count": null,
   "id": "36d69c84",
   "metadata": {},
   "outputs": [],
   "source": []
  },
  {
   "cell_type": "code",
   "execution_count": null,
   "id": "386bbc13",
   "metadata": {},
   "outputs": [],
   "source": []
  },
  {
   "cell_type": "code",
   "execution_count": null,
   "id": "8798bbf7",
   "metadata": {},
   "outputs": [],
   "source": []
  },
  {
   "cell_type": "code",
   "execution_count": null,
   "id": "ae1c709a",
   "metadata": {},
   "outputs": [],
   "source": []
  },
  {
   "cell_type": "code",
   "execution_count": null,
   "id": "7b053e1d",
   "metadata": {},
   "outputs": [],
   "source": []
  },
  {
   "cell_type": "code",
   "execution_count": null,
   "id": "4fa7dddf",
   "metadata": {},
   "outputs": [],
   "source": []
  },
  {
   "cell_type": "code",
   "execution_count": null,
   "id": "4c77a587",
   "metadata": {},
   "outputs": [],
   "source": []
  },
  {
   "cell_type": "code",
   "execution_count": null,
   "id": "7bc76d6a",
   "metadata": {},
   "outputs": [],
   "source": []
  },
  {
   "cell_type": "code",
   "execution_count": null,
   "id": "42626eff",
   "metadata": {},
   "outputs": [],
   "source": []
  },
  {
   "cell_type": "code",
   "execution_count": null,
   "id": "8f0cc77f",
   "metadata": {},
   "outputs": [],
   "source": []
  },
  {
   "cell_type": "code",
   "execution_count": null,
   "id": "43027372",
   "metadata": {},
   "outputs": [],
   "source": []
  },
  {
   "cell_type": "code",
   "execution_count": null,
   "id": "72813e1b",
   "metadata": {},
   "outputs": [],
   "source": []
  },
  {
   "cell_type": "code",
   "execution_count": null,
   "id": "b0ea1907",
   "metadata": {},
   "outputs": [],
   "source": []
  },
  {
   "cell_type": "code",
   "execution_count": null,
   "id": "2c603372",
   "metadata": {},
   "outputs": [],
   "source": []
  },
  {
   "cell_type": "code",
   "execution_count": null,
   "id": "19180050",
   "metadata": {},
   "outputs": [],
   "source": []
  },
  {
   "cell_type": "code",
   "execution_count": null,
   "id": "c7507abf",
   "metadata": {},
   "outputs": [],
   "source": []
  },
  {
   "cell_type": "code",
   "execution_count": null,
   "id": "ba4b4595",
   "metadata": {},
   "outputs": [],
   "source": []
  },
  {
   "cell_type": "code",
   "execution_count": null,
   "id": "d254fbf3",
   "metadata": {},
   "outputs": [],
   "source": []
  },
  {
   "cell_type": "code",
   "execution_count": null,
   "id": "1f2deb3f",
   "metadata": {},
   "outputs": [],
   "source": []
  },
  {
   "cell_type": "code",
   "execution_count": null,
   "id": "1cc97438",
   "metadata": {},
   "outputs": [],
   "source": []
  },
  {
   "cell_type": "code",
   "execution_count": null,
   "id": "93c9cf7e",
   "metadata": {},
   "outputs": [],
   "source": []
  },
  {
   "cell_type": "code",
   "execution_count": null,
   "id": "6da26f63",
   "metadata": {},
   "outputs": [],
   "source": []
  },
  {
   "cell_type": "code",
   "execution_count": null,
   "id": "095cb9a3",
   "metadata": {},
   "outputs": [],
   "source": []
  },
  {
   "cell_type": "code",
   "execution_count": null,
   "id": "9c1456df",
   "metadata": {},
   "outputs": [],
   "source": []
  },
  {
   "cell_type": "code",
   "execution_count": null,
   "id": "fff9f456",
   "metadata": {},
   "outputs": [],
   "source": []
  },
  {
   "cell_type": "code",
   "execution_count": null,
   "id": "891fd03c",
   "metadata": {},
   "outputs": [],
   "source": []
  }
 ],
 "metadata": {
  "kernelspec": {
   "display_name": "Java",
   "language": "java",
   "name": "java"
  },
  "language_info": {
   "codemirror_mode": "java",
   "file_extension": ".jshell",
   "mimetype": "text/x-java-source",
   "name": "Java",
   "pygments_lexer": "java",
   "version": "21+35-2513"
  }
 },
 "nbformat": 4,
 "nbformat_minor": 5
}
